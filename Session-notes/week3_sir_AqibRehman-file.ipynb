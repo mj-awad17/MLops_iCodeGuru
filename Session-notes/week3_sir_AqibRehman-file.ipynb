{
 "cells": [
  {
   "cell_type": "markdown",
   "metadata": {},
   "source": [
    "## What is Unit Test?\n",
    "Unit testing is a approach to test your code on different cases for make it better."
   ]
  },
  {
   "cell_type": "markdown",
   "metadata": {},
   "source": [
    "\n",
    "\n",
    "1. **What**: Testing Framework\n",
    "2. **Where**: Python Projects\n",
    "3. **Why**: Simplicity\n",
    "4. **Importance**: Efficiency\n",
    "5. **Ease**: Readability\n",
    "6. **Power**: Flexibility\n",
    "7. **Advantage**: Scalability"
   ]
  },
  {
   "cell_type": "markdown",
   "metadata": {},
   "source": [
    "## What are Major Libraries of Unit Testing in Python?\n",
    "Certainly! Here's a list of some popular Python unit testing libraries:\n",
    "\n",
    "1. **unittest**:\n",
    "   - Built-in Python library.\n",
    "   - Inspired by the JUnit framework.\n",
    "   - Follows the xUnit style of setup, execution, and teardown.\n",
    "\n",
    "2. **pytest**:\n",
    "   - Feature-rich, easy-to-use testing framework.\n",
    "   - Provides a simpler syntax compared to `unittest`.\n",
    "   - Extensive plugin ecosystem.\n",
    "   - Supports test discovery, fixtures, parameterization, and more.\n",
    "\n",
    "3. **nose**:\n",
    "   - Extends `unittest` to make testing easier.\n",
    "   - Supports test discovery and parallel testing.\n",
    "   - Provides a simpler syntax compared to `unittest`.\n",
    "\n",
    "4. **doctest**:\n",
    "   - Tests embedded within docstrings.\n",
    "   - Suitable for simple test cases and documentation.\n",
    "   - Executes code in docstrings and compares output against expected results.\n",
    "\n",
    "5. **nose2**:\n",
    "   - Successor to `nose`.\n",
    "   - Extends `unittest` to provide a more convenient testing experience.\n",
    "   - Supports test discovery, fixtures, and plugins.\n",
    "\n",
    "6. **Hypothesis**:\n",
    "   - Provides property-based testing.\n",
    "   - Automatically generates test cases based on specifications.\n",
    "   - Useful for finding edge cases and unexpected behavior.\n",
    "\n",
    "7. **tox**:\n",
    "   - Automation tool for testing code across multiple Python environments.\n",
    "   - Helps ensure code compatibility across different Python versions.\n",
    "\n",
    "8. **unittest2**:\n",
    "   - Backport of new `unittest` features to older Python versions.\n",
    "   - Offers features not available in the built-in `unittest` of older Python versions.\n",
    "\n",
    "9. **testtools**:\n",
    "   - Provides advanced testing utilities.\n",
    "   - Enhances `unittest` by adding additional features and enhancements.\n",
    "\n",
    "10. **pyvows**:\n",
    "    - BDD-style (Behavior Driven Development) testing framework.\n",
    "    - Inspired by Jasmine (for JavaScript) and Vows (for Node.js).\n",
    "    - Focused on readable and expressive tests.\n",
    "\n"
   ]
  },
  {
   "cell_type": "markdown",
   "metadata": {},
   "source": [
    "\n",
    "1. **Web Development**:\n",
    "   - **Testing Web Applications**: Pytest can be used to test web applications built with frameworks like Django or Flask. You can write tests to check the functionality of different web pages, form submissions, authentication processes, etc.\n",
    "\n",
    "2. **API Development**:\n",
    "   - **API Testing**: Pytest can be used to test RESTful APIs. You can write tests to verify that endpoints return the correct status codes, data formats, and responses.\n",
    "\n",
    "3. **Data Science**:\n",
    "   - **Testing Data Processing**: Pytest can be used to test functions and classes used for data processing, manipulation, and analysis. For example, testing functions that clean, transform, or analyze data.\n",
    "\n",
    "4. **Machine Learning**:\n",
    "   - **Testing ML Models**: Pytest can be used to test machine learning models. You can write tests to verify that models produce expected outputs for given inputs, handle edge cases correctly, and perform within acceptable performance thresholds.\n",
    "\n",
    "5. **Embedded Systems**:\n",
    "   - **Unit Testing Firmware**: Pytest can be used to test firmware for embedded systems. You can write tests to verify that the firmware functions correctly, handles different inputs, and interacts properly with hardware components.\n",
    "\n",
    "6. **DevOps**:\n",
    "   - **Automated Testing Pipelines**: Pytest can be integrated into continuous integration (CI) pipelines to automate testing. You can write tests to run automatically whenever changes are made to the codebase, ensuring that new code doesn't introduce regressions.\n",
    "\n",
    "7. **Game Development**:\n",
    "   - **Testing Game Logic**: Pytest can be used to test game logic and mechanics. You can write tests to verify that game objects behave as expected, collisions are detected correctly, and game states are updated properly.\n",
    "\n",
    "8. **Desktop Applications**:\n",
    "   - **Testing GUI Applications**: Pytest can be used to test desktop applications with graphical user interfaces (GUIs). You can write tests to simulate user interactions, verify that UI elements display correctly, and test application functionality.\n",
    "\n"
   ]
  },
  {
   "cell_type": "code",
   "execution_count": 1,
   "metadata": {},
   "outputs": [
    {
     "name": "stdout",
     "output_type": "stream",
     "text": [
      "Requirement already satisfied: pytest in /home/aqib/anaconda3/lib/python3.11/site-packages (7.4.0)\n",
      "Requirement already satisfied: iniconfig in /home/aqib/anaconda3/lib/python3.11/site-packages (from pytest) (1.1.1)\n",
      "Requirement already satisfied: packaging in /home/aqib/anaconda3/lib/python3.11/site-packages (from pytest) (23.2)\n",
      "Requirement already satisfied: pluggy<2.0,>=0.12 in /home/aqib/anaconda3/lib/python3.11/site-packages (from pytest) (1.3.0)\n"
     ]
    }
   ],
   "source": [
    "!pip install pytest"
   ]
  },
  {
   "cell_type": "markdown",
   "metadata": {},
   "source": [
    "## Data Science Usecase"
   ]
  },
  {
   "cell_type": "code",
   "execution_count": 4,
   "metadata": {},
   "outputs": [],
   "source": [
    "# test_data_processing.py\n",
    "\n",
    "import pytest\n",
    "from data_processing import remove_duplicates, calculate_mean\n"
   ]
  },
  {
   "cell_type": "code",
   "execution_count": 5,
   "metadata": {},
   "outputs": [],
   "source": [
    "\n",
    "def test_remove_duplicates():\n",
    "    assert remove_duplicates([1, 2, 3, 3, 4, 5]) == [1, 2, 3, 4, 5]\n",
    "    assert remove_duplicates([]) == []\n",
    "\n",
    "def test_calculate_mean():\n",
    "    assert calculate_mean([1, 2, 3, 4, 5]) == 3\n",
    "    assert calculate_mean([0, 0, 0, 0]) == 0\n",
    "    assert calculate_mean([]) == None\n"
   ]
  },
  {
   "cell_type": "code",
   "execution_count": 6,
   "metadata": {},
   "outputs": [],
   "source": [
    "test_calculate_mean()"
   ]
  },
  {
   "cell_type": "code",
   "execution_count": 7,
   "metadata": {},
   "outputs": [],
   "source": [
    "test_remove_duplicates()"
   ]
  },
  {
   "cell_type": "code",
   "execution_count": null,
   "metadata": {},
   "outputs": [],
   "source": []
  }
 ],
 "metadata": {
  "kernelspec": {
   "display_name": "base",
   "language": "python",
   "name": "python3"
  },
  "language_info": {
   "codemirror_mode": {
    "name": "ipython",
    "version": 3
   },
   "file_extension": ".py",
   "mimetype": "text/x-python",
   "name": "python",
   "nbconvert_exporter": "python",
   "pygments_lexer": "ipython3",
   "version": "3.11.5"
  }
 },
 "nbformat": 4,
 "nbformat_minor": 2
}